{
 "cells": [
  {
   "cell_type": "code",
   "execution_count": 58,
   "metadata": {},
   "outputs": [],
   "source": [
    "#import matplotlib\n",
    "import matplotlib.pyplot as plt\n",
    "import matplotlib.gridspec as gridspec\n",
    "from matplotlib.ticker import MaxNLocator\n",
    "import numpy as np\n",
    "import math"
   ]
  },
  {
   "cell_type": "code",
   "execution_count": 59,
   "metadata": {},
   "outputs": [],
   "source": [
    "from enum import Enum\n",
    "class Coordinate(Enum):\n",
    "    CIRCULAR = 1\n",
    "    LINEAR = 0\n",
    "    HYPERBOLIC = -1"
   ]
  },
  {
   "cell_type": "code",
   "execution_count": 60,
   "metadata": {},
   "outputs": [],
   "source": [
    "def rot(x_init, y_init, z_init, c_mode, max_iterations):\n",
    "    x_prev, y_prev, z_prev = x_init, y_init, z_init\n",
    "    x_values, y_values, z_values = [], [], []\n",
    "    for i in range(max_iterations):\n",
    "\n",
    "        dir = 1 if (np.sign(z_prev)) > -1 else -1\n",
    "        \n",
    "        if c_mode == Coordinate.CIRCULAR:\n",
    "            e = math.degrees(math.atan(1/(1 << i)))\n",
    "        elif c_mode == Coordinate.LINEAR:\n",
    "            e = 1/(1 << i)\n",
    "        elif c_mode == Coordinate.HYPERBOLIC:\n",
    "            if i == 0:\n",
    "                i = 1\n",
    "            e = math.atanh(1/(1 << i))\n",
    "        # Unified CORDIC Algorithm from Andraka (1998)\n",
    "        x = x_prev - c_mode.value * y_prev * dir * (1/(1 << i))\n",
    "        y = y_prev + x_prev * dir * (1/(1 << i))\n",
    "        z = z_prev - dir * e\n",
    "\n",
    "        x_prev, y_prev, z_prev = x, y, z\n",
    "\n",
    "        x_values.append(x)\n",
    "        y_values.append(y)\n",
    "        z_values.append(z)\n",
    "    return (x_values, y_values, z_values, an)"
   ]
  },
  {
   "cell_type": "code",
   "execution_count": 61,
   "metadata": {},
   "outputs": [
    {
     "name": "stdout",
     "output_type": "stream",
     "text": [
      "([0.607164541590771, 0.3035822707953855, 0.5312689738919247, 0.6356253794778385, 0.6836530434122647, 0.7064254195601852, 0.7174777926715418, 0.7120378396875872, 0.7092959675110191, 0.7079195990051349, 0.7072300618774989, 0.706884955751311, 0.7070575931227981, 0.706971295503868, 0.7070144495813226, 0.706992873859432, 0.7070036620496066, 0.7070090560623892, 0.7070063590765744, 0.7070050105785228], [0.607164541590771, 0.9107468123861566, 0.8348512446873102, 0.7684426229508197, 0.7287160367334548, 0.7073518791268215, 0.6963139819461936, 0.7019192772014401, 0.7047006750127197, 0.7060860186992647, 0.7067773464326681, 0.7071226736113192, 0.706950094276419, 0.707036405017767, 0.7069932549142817, 0.7070148312829823, 0.7070040434278514, 0.7069986494179786, 0.7070013464434916, 0.7070026949511039], [0.0, -26.56505117707799, -12.528807709151511, -5.403791360249714, -1.8274569852523626, -0.03754637700629315, 0.8576273332047812, 0.41001316234422813, 0.18620266197569005, 0.07429698490948315, 0.018344093015679477, -0.009632359601324199, 0.0043558675409408176, -0.0026382461344121016, 0.0008588107162919092, -0.0008897177106885403, -1.5453496994760033e-05, 0.00042167860987757453, 0.0002031125564382267, 9.38295297181552e-05], 1.647)\n"
     ]
    }
   ],
   "source": [
    "an = 1.647\n",
    "x_init = 1/an\n",
    "y_init = 0\n",
    "z_init = 45\n",
    "coordinate = Coordinate.CIRCULAR\n",
    "max_iter = 20\n",
    "\n",
    "results = rot(x_init, y_init, z_init, coordinate, max_iter)\n",
    "print(results)"
   ]
  },
  {
   "cell_type": "code",
   "execution_count": 62,
   "metadata": {},
   "outputs": [
    {
     "data": {
      "image/png": "[encoded data removed]",
      "text/plain": [
       "<Figure size 432x288 with 3 Axes>"
      ]
     },
     "metadata": {
      "needs_background": "light"
     },
     "output_type": "display_data"
    }
   ],
   "source": [
    "x_values = results[0]\n",
    "y_values = results[1]\n",
    "z_values = results[2]\n",
    "iterations = [i for i in range(max_iter)]\n",
    "\n",
    "gs = gridspec.GridSpec(2, 2)\n",
    "\n",
    "fig = plt.figure()\n",
    "\n",
    "ax1 = fig.add_subplot(gs[0,0])\n",
    "ax1.plot(iterations, x_values)\n",
    "\n",
    "ax2 = fig.add_subplot(gs[0,1])\n",
    "ax2.plot(iterations, y_values)\n",
    "\n",
    "ax3 = fig.add_subplot(gs[1,:])\n",
    "ax3.plot(iterations, z_values)\n",
    "ax3.xaxis.set_major_locator(MaxNLocator(integer=True))\n"
   ]
  },
  {
   "cell_type": "code",
   "execution_count": 63,
   "metadata": {},
   "outputs": [],
   "source": [
    "def vect(x_init, y_init, z_init, c_mode, max_iterations):\n",
    "    x_prev, y_prev, z_prev = x_init, y_init, z_init\n",
    "    x_values, y_values, z_values = [], [], []\n",
    "\n",
    "    for i in range(max_iterations):\n",
    "        dir = 1 if np.sign(y_prev) < 0 else -1\n",
    "\n",
    "        if c_mode == Coordinate.CIRCULAR:\n",
    "            e = math.degrees(math.atan(1/(1 << i)))\n",
    "        elif c_mode == Coordinate.LINEAR:\n",
    "            e = 1/(1 << i)\n",
    "        elif c_mode == Coordinate.HYPERBOLIC:\n",
    "            if i == 0:\n",
    "                i = 1\n",
    "            e = math.atanh(1/(1 << i))\n",
    "\n",
    "        x = x_prev - c_mode.value * y_prev * dir * (1/(1 << i))\n",
    "        y = y_prev + x_prev * dir * (1/(1 << i))\n",
    "        z = z_prev - dir * e\n",
    "\n",
    "        x_prev, y_prev, z_prev = x, y, z\n",
    "\n",
    "        x_values.append(x)\n",
    "        y_values.append(y)\n",
    "        z_values.append(z)\n",
    "        \n",
    "    return (x_values, y_values, z_values)"
   ]
  },
  {
   "cell_type": "code",
   "execution_count": 64,
   "metadata": {},
   "outputs": [
    {
     "name": "stdout",
     "output_type": "stream",
     "text": [
      "-1\n",
      "1 2 -1\n",
      "-1.0\n",
      "1\n",
      "-1.0 2.0 1\n",
      "0.0\n",
      "-1\n",
      "0.0 2.0 -1\n",
      "-0.5\n",
      "1\n",
      "-0.5 2.0 1\n",
      "-0.25\n",
      "1\n",
      "-0.25 2.0 1\n",
      "-0.125\n",
      "1\n",
      "-0.125 2.0 1\n",
      "-0.0625\n",
      "1\n",
      "-0.0625 2.0 1\n",
      "-0.03125\n",
      "1\n",
      "-0.03125 2.0 1\n",
      "-0.015625\n",
      "1\n",
      "-0.015625 2.0 1\n",
      "-0.0078125\n",
      "1\n",
      "-0.0078125 2.0 1\n",
      "-0.00390625\n",
      "1\n",
      "-0.00390625 2.0 1\n",
      "-0.001953125\n",
      "1\n",
      "-0.001953125 2.0 1\n",
      "-0.0009765625\n",
      "1\n",
      "-0.0009765625 2.0 1\n",
      "-0.00048828125\n",
      "1\n",
      "-0.00048828125 2.0 1\n",
      "-0.000244140625\n",
      "1\n",
      "-0.000244140625 2.0 1\n",
      "-0.0001220703125\n",
      "1\n",
      "-0.0001220703125 2.0 1\n",
      "-6.103515625e-05\n",
      "1\n",
      "-6.103515625e-05 2.0 1\n",
      "-3.0517578125e-05\n",
      "1\n",
      "-3.0517578125e-05 2.0 1\n",
      "-1.52587890625e-05\n",
      "1\n",
      "-1.52587890625e-05 2.0 1\n",
      "-7.62939453125e-06\n",
      "1\n",
      "-7.62939453125e-06 2.0 1\n",
      "-3.814697265625e-06\n",
      "([2.0, 2.0, 2.0, 2.0, 2.0, 2.0, 2.0, 2.0, 2.0, 2.0, 2.0, 2.0, 2.0, 2.0, 2.0, 2.0, 2.0, 2.0, 2.0, 2.0], [-1.0, 0.0, -0.5, -0.25, -0.125, -0.0625, -0.03125, -0.015625, -0.0078125, -0.00390625, -0.001953125, -0.0009765625, -0.00048828125, -0.000244140625, -0.0001220703125, -6.103515625e-05, -3.0517578125e-05, -1.52587890625e-05, -7.62939453125e-06, -3.814697265625e-06], [2.5, 2.0, 2.25, 2.125, 2.0625, 2.03125, 2.015625, 2.0078125, 2.00390625, 2.001953125, 2.0009765625, 2.00048828125, 2.000244140625, 2.0001220703125, 2.00006103515625, 2.000030517578125, 2.0000152587890625, 2.0000076293945312, 2.0000038146972656, 2.000001907348633])\n"
     ]
    }
   ],
   "source": [
    "x_init = 2\n",
    "y_init = 1\n",
    "z_init = 1.5\n",
    "coordinate = Coordinate.LINEAR\n",
    "max_iter = 20\n",
    "\n",
    "results = vect(x_init, y_init, z_init, coordinate, max_iter)\n",
    "print(results)"
   ]
  },
  {
   "cell_type": "code",
   "execution_count": 36,
   "metadata": {},
   "outputs": [
    {
     "data": {
      "image/png": "[encoded data removed]",
      "text/plain": [
       "<Figure size 432x288 with 3 Axes>"
      ]
     },
     "metadata": {
      "needs_background": "light"
     },
     "output_type": "display_data"
    }
   ],
   "source": [
    "x_values = results[0]\n",
    "y_values = results[1]\n",
    "z_values = results[2]\n",
    "iterations = [i for i in range(max_iter)]\n",
    "\n",
    "gs = gridspec.GridSpec(2, 2)\n",
    "\n",
    "fig = plt.figure()\n",
    "\n",
    "ax1 = fig.add_subplot(gs[0,0])\n",
    "ax1.plot(iterations, x_values)\n",
    "\n",
    "ax2 = fig.add_subplot(gs[0,1])\n",
    "ax2.plot(iterations, y_values)\n",
    "\n",
    "ax3 = fig.add_subplot(gs[1,:])\n",
    "ax3.plot(iterations, z_values)\n",
    "ax3.xaxis.set_major_locator(MaxNLocator(integer=True))"
   ]
  }
 ],
 "metadata": {
  "interpreter": {
   "hash": "30ff0821cb6823cb5e2f41a1433645dc99347908d6e4dbf29581255e01deb24e"
  },
  "kernelspec": {
   "display_name": "Python 3.9.7 ('base')",
   "language": "python",
   "name": "python3"
  },
  "language_info": {
   "codemirror_mode": {
    "name": "ipython",
    "version": 3
   },
   "file_extension": ".py",
   "mimetype": "text/x-python",
   "name": "python",
   "nbconvert_exporter": "python",
   "pygments_lexer": "ipython3",
   "version": "3.9.7"
  },
  "orig_nbformat": 4
 },
 "nbformat": 4,
 "nbformat_minor": 2
}
