{
 "cells": [
  {
   "cell_type": "code",
   "execution_count": 2,
   "metadata": {},
   "outputs": [],
   "source": [
    "import matplotlib.pyplot as plt\n",
    "import matplotlib.gridspec as gridspec\n",
    "from matplotlib.ticker import MaxNLocator\n",
    "import numpy as np\n",
    "import math"
   ]
  },
  {
   "cell_type": "code",
   "execution_count": 3,
   "metadata": {},
   "outputs": [],
   "source": [
    "# Enum for coordinate system\n",
    "from enum import Enum\n",
    "class Coordinate(Enum):\n",
    "    CIRCULAR = 1\n",
    "    LINEAR = 0\n",
    "    HYPERBOLIC = -1"
   ]
  },
  {
   "cell_type": "code",
   "execution_count": 4,
   "metadata": {},
   "outputs": [],
   "source": [
    "# Rotation mode\n",
    "def rot(x_init, y_init, z_init, c_mode, max_iterations):\n",
    "    # Get initial x, y, z values\n",
    "    x_prev, y_prev, z_prev = x_init, y_init, z_init\n",
    "    x_values, y_values, z_values = [], [], []\n",
    "    # Iterate the given number of times\n",
    "    for i in range(max_iterations):\n",
    "        # Choose binary direction variable (xi) based on previous iteration\n",
    "        dir = 1 if (np.sign(z_prev)) > -1 else -1\n",
    "        \n",
    "        # Compute value to be added to angle accumulator\n",
    "        if c_mode == Coordinate.CIRCULAR:\n",
    "            e = math.degrees(math.atan(1/(1 << i)))\n",
    "        elif c_mode == Coordinate.LINEAR:\n",
    "            e = 1/(1 << i)\n",
    "        elif c_mode == Coordinate.HYPERBOLIC:\n",
    "            if i == 0:\n",
    "                i = 1\n",
    "            e = math.atanh(1/(1 << i))\n",
    "\n",
    "        # Unified CORDIC Algorithm from Andraka (1998)\n",
    "        x = x_prev - c_mode.value * y_prev * dir * (1/(1 << i))\n",
    "        y = y_prev + x_prev * dir * (1/(1 << i))\n",
    "        z = z_prev - dir * e\n",
    "\n",
    "        # Update value list and prepare for next iteration\n",
    "        x_prev, y_prev, z_prev = x, y, z\n",
    "\n",
    "        x_values.append(x)\n",
    "        y_values.append(y)\n",
    "        z_values.append(z)\n",
    "    # Return list of values\n",
    "    return (x_values, y_values, z_values)"
   ]
  },
  {
   "cell_type": "code",
   "execution_count": 6,
   "metadata": {},
   "outputs": [
    {
     "name": "stdout",
     "output_type": "stream",
     "text": [
      "1.6467602581210654\n",
      "([0.6072529350088813, 0.30362646750444067, 0.5313463181327711, 0.6357179163374226, 0.6837525723293361, 0.7065282637699463, 0.7175822459295437, 0.7121415009756934, 0.709399229626517, 0.7080226607434558, 0.7073330232302744, 0.7069878668621702, 0.7071605293668894, 0.7070742191844102, 0.7071173795444063, 0.7070958006814366, 0.7071065904421987, 0.707111985240263, 0.7071092878618104, 0.7071079391674392], [0.6072529350088813, 0.910879402513322, 0.8349727856372118, 0.7685544958706154, 0.7288221260995265, 0.7074548582142347, 0.6964153540928293, 0.7020214653891539, 0.7048032681273402, 0.7061888134977045, 0.7068802418773368, 0.707225619330086, 0.7070530148704028, 0.7071393381772103, 0.707096181791762, 0.7071177613016358, 0.7071069718759663, 0.7071015770808121, 0.7071042744989687, 0.7071056232029022], [0.0, -26.56505117707799, -12.528807709151511, -5.403791360249714, -1.8274569852523626, -0.03754637700629315, 0.8576273332047812, 0.41001316234422813, 0.18620266197569005, 0.07429698490948315, 0.018344093015679477, -0.009632359601324199, 0.0043558675409408176, -0.0026382461344121016, 0.0008588107162919092, -0.0008897177106885403, -1.5453496994760033e-05, 0.00042167860987757453, 0.0002031125564382267, 9.38295297181552e-05])\n"
     ]
    }
   ],
   "source": [
    "# Compute magnitude-change factor\n",
    "k = 1\n",
    "for i in range(0, 100, 2):\n",
    "    k *= math.sqrt(1 + (1/(1 << i)))\n",
    "print(k)\n",
    "# Set up initial x, y, accumulator values\n",
    "x_init = 1/k\n",
    "y_init = 0\n",
    "z_init = 45\n",
    "coordinate = Coordinate.CIRCULAR\n",
    "max_iter = 20\n",
    "\n",
    "results = rot(x_init, y_init, z_init, coordinate, max_iter)\n",
    "print(results)"
   ]
  },
  {
   "cell_type": "code",
   "execution_count": 7,
   "metadata": {},
   "outputs": [
    {
     "data": {
      "image/png": "[encoded data removed]",
      "text/plain": [
       "<Figure size 432x288 with 3 Axes>"
      ]
     },
     "metadata": {
      "needs_background": "light"
     },
     "output_type": "display_data"
    }
   ],
   "source": [
    "# Plot results\n",
    "x_values = results[0]\n",
    "y_values = results[1]\n",
    "z_values = results[2]\n",
    "iterations = [i for i in range(max_iter)]\n",
    "\n",
    "gs = gridspec.GridSpec(2, 2)\n",
    "\n",
    "fig = plt.figure()\n",
    "\n",
    "ax1 = fig.add_subplot(gs[0,0])\n",
    "ax1.plot(iterations, x_values)\n",
    "\n",
    "ax2 = fig.add_subplot(gs[0,1])\n",
    "ax2.plot(iterations, y_values)\n",
    "\n",
    "ax3 = fig.add_subplot(gs[1,:])\n",
    "ax3.plot(iterations, z_values)\n",
    "ax3.xaxis.set_major_locator(MaxNLocator(integer=True))\n"
   ]
  },
  {
   "cell_type": "code",
   "execution_count": 8,
   "metadata": {},
   "outputs": [],
   "source": [
    "# Vector mode\n",
    "def vect(x_init, y_init, z_init, c_mode, max_iterations):\n",
    "    # Get initial x, y, z values\n",
    "    x_prev, y_prev, z_prev = x_init, y_init, z_init\n",
    "    x_values, y_values, z_values = [], [], []\n",
    "\n",
    "    # Iterate for max iterations\n",
    "    for i in range(max_iterations):\n",
    "        # Binary direction variable (xi)\n",
    "        dir = 1 if np.sign(y_prev) < 0 else -1\n",
    "\n",
    "        # Determine value to be added to angle accumulator\n",
    "        if c_mode == Coordinate.CIRCULAR:\n",
    "            e = math.degrees(math.atan(1/(1 << i)))\n",
    "        elif c_mode == Coordinate.LINEAR:\n",
    "            e = 1/(1 << i)\n",
    "        elif c_mode == Coordinate.HYPERBOLIC:\n",
    "            if i == 0:\n",
    "                i = 1\n",
    "            e = math.atanh(1/(1 << i))\n",
    "\n",
    "        # Unified CORDIC algorithm\n",
    "        x = x_prev - c_mode.value * y_prev * dir * (1/(1 << i))\n",
    "        y = y_prev + x_prev * dir * (1/(1 << i))\n",
    "        z = z_prev - dir * e\n",
    "\n",
    "        # Prepare for next iteration step\n",
    "        x_prev, y_prev, z_prev = x, y, z\n",
    "\n",
    "        x_values.append(x)\n",
    "        y_values.append(y)\n",
    "        z_values.append(z)\n",
    "        \n",
    "    return (x_values, y_values, z_values)"
   ]
  },
  {
   "cell_type": "code",
   "execution_count": 13,
   "metadata": {},
   "outputs": [
    {
     "name": "stdout",
     "output_type": "stream",
     "text": [
      "([1.0, 1.0, 1.0, 1.0, 1.0, 1.0, 1.0, 1.0, 1.0, 1.0, 1.0, 1.0, 1.0, 1.0, 1.0, 1.0, 1.0, 1.0, 1.0, 1.0], [0.0, -0.5, -0.25, -0.125, -0.0625, -0.03125, -0.015625, -0.0078125, -0.00390625, -0.001953125, -0.0009765625, -0.00048828125, -0.000244140625, -0.0001220703125, -6.103515625e-05, -3.0517578125e-05, -1.52587890625e-05, -7.62939453125e-06, -3.814697265625e-06, -1.9073486328125e-06], [1.0, 1.5, 1.25, 1.125, 1.0625, 1.03125, 1.015625, 1.0078125, 1.00390625, 1.001953125, 1.0009765625, 1.00048828125, 1.000244140625, 1.0001220703125, 1.00006103515625, 1.000030517578125, 1.0000152587890625, 1.0000076293945312, 1.0000038146972656, 1.0000019073486328])\n"
     ]
    }
   ],
   "source": [
    "# Initial vector components\n",
    "x_init = 1\n",
    "y_init = 1\n",
    "z_init = 0\n",
    "coordinate = Coordinate.LINEAR\n",
    "max_iter = 20\n",
    "\n",
    "results = vect(x_init, y_init, z_init, coordinate, max_iter)\n",
    "print(results)"
   ]
  },
  {
   "cell_type": "code",
   "execution_count": 14,
   "metadata": {},
   "outputs": [
    {
     "data": {
      "image/png": "[encoded data removed]",
      "text/plain": [
       "<Figure size 432x288 with 3 Axes>"
      ]
     },
     "metadata": {
      "needs_background": "light"
     },
     "output_type": "display_data"
    }
   ],
   "source": [
    "# Plot results\n",
    "x_values = results[0]\n",
    "y_values = results[1]\n",
    "z_values = results[2]\n",
    "iterations = [i for i in range(max_iter)]\n",
    "\n",
    "gs = gridspec.GridSpec(2, 2)\n",
    "\n",
    "fig = plt.figure()\n",
    "\n",
    "ax1 = fig.add_subplot(gs[0,0])\n",
    "ax1.plot(iterations, x_values)\n",
    "\n",
    "ax2 = fig.add_subplot(gs[0,1])\n",
    "ax2.plot(iterations, y_values)\n",
    "\n",
    "ax3 = fig.add_subplot(gs[1,:])\n",
    "ax3.plot(iterations, z_values)\n",
    "ax3.xaxis.set_major_locator(MaxNLocator(integer=True))"
   ]
  }
 ],
 "metadata": {
  "interpreter": {
   "hash": "30ff0821cb6823cb5e2f41a1433645dc99347908d6e4dbf29581255e01deb24e"
  },
  "kernelspec": {
   "display_name": "Python 3.9.7 ('base')",
   "language": "python",
   "name": "python3"
  },
  "language_info": {
   "codemirror_mode": {
    "name": "ipython",
    "version": 3
   },
   "file_extension": ".py",
   "mimetype": "text/x-python",
   "name": "python",
   "nbconvert_exporter": "python",
   "pygments_lexer": "ipython3",
   "version": "3.9.7"
  },
  "orig_nbformat": 4
 },
 "nbformat": 4,
 "nbformat_minor": 2
}
